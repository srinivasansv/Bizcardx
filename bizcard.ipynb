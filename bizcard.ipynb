{
 "cells": [
  {
   "cell_type": "code",
   "execution_count": 1,
   "metadata": {
    "metadata": {}
   },
   "outputs": [],
   "source": [
    "import pandas as pd\n",
    "import streamlit as st\n",
    "from streamlit_option_menu import option_menu\n",
    "import easyocr\n",
    "import mysql.connector as mysql\n",
    "from PIL import Image\n",
    "import cv2\n",
    "import os\n",
    "import matplotlib.pyplot as plt\n",
    "import re"
   ]
  },
  {
   "cell_type": "code",
   "execution_count": 2,
   "metadata": {
    "metadata": {}
   },
   "outputs": [
    {
     "name": "stderr",
     "output_type": "stream",
     "text": [
      "2024-07-19 23:02:02.049 \n",
      "  \u001b[33m\u001b[1mWarning:\u001b[0m to view this Streamlit app on a browser, run it with the following\n",
      "  command:\n",
      "\n",
      "    streamlit run g:\\GUVI PROJECT\\.venv\\Lib\\site-packages\\ipykernel_launcher.py [ARGUMENTS]\n"
     ]
    },
    {
     "data": {
      "text/plain": [
       "DeltaGenerator()"
      ]
     },
     "execution_count": 2,
     "metadata": {},
     "output_type": "execute_result"
    }
   ],
   "source": [
    "# SETTING PAGE CONFIGURATIONS\n",
    "icon = Image.open(\"icon.png\")\n",
    "st.set_page_config(page_title= \"BizCardX: Extracting Business Card Data with OCR | By Srinivasan\",\n",
    "                   page_icon= icon,\n",
    "                   layout= \"wide\",\n",
    "                   initial_sidebar_state= \"expanded\",\n",
    "                   menu_items={'About': \"\"\"# This OCR app is created by *Jafar Hussain*!\"\"\"})\n",
    "st.markdown(\"<h1 style='text-align: center; color: white;'>BizCardX: Extracting Business Card Data with OCR</h1>\", unsafe_allow_html=True)"
   ]
  },
  {
   "cell_type": "code",
   "execution_count": 3,
   "metadata": {
    "metadata": {}
   },
   "outputs": [],
   "source": [
    "# SETTING-UP BACKGROUND IMAGE\n",
    "def setting_bg():\n",
    "    st.markdown(f\"\"\" <style>.stApp {{\n",
    "                        background: url(\"https://cutewallpaper.org/22/plane-colour-background-wallpapers/189265759.jpg\");\n",
    "                        background-size: cover}}\n",
    "                     </style>\"\"\",unsafe_allow_html=True) \n",
    "setting_bg()"
   ]
  },
  {
   "cell_type": "code",
   "execution_count": 4,
   "metadata": {
    "metadata": {}
   },
   "outputs": [
    {
     "name": "stderr",
     "output_type": "stream",
     "text": [
      "2024-07-19 23:02:10.290 Session state does not function when running a script without `streamlit run`\n"
     ]
    }
   ],
   "source": [
    "# CREATING OPTION MENU\n",
    "selected = option_menu(None, [\"Home\",\"Upload & Extract\",\"Modify\"], \n",
    "                       icons=[\"house\",\"cloud-upload\",\"pencil-square\"],\n",
    "                       default_index=0,\n",
    "                       orientation=\"horizontal\",\n",
    "                       styles={\"nav-link\": {\"font-size\": \"35px\", \"text-align\": \"centre\", \"margin\": \"0px\", \"--hover-color\": \"#6495ED\"},\n",
    "                               \"icon\": {\"font-size\": \"35px\"},\n",
    "                               \"container\" : {\"max-width\": \"6000px\"},\n",
    "                               \"nav-link-selected\": {\"background-color\": \"#6495ED\"}})"
   ]
  },
  {
   "cell_type": "code",
   "execution_count": 5,
   "metadata": {
    "metadata": {}
   },
   "outputs": [
    {
     "name": "stderr",
     "output_type": "stream",
     "text": [
      "Neither CUDA nor MPS are available - defaulting to CPU. Note: This module is much faster with a GPU.\n"
     ]
    }
   ],
   "source": [
    "# INITIALIZING THE EasyOCR READER\n",
    "reader = easyocr.Reader(['en'])"
   ]
  },
  {
   "cell_type": "code",
   "execution_count": 8,
   "metadata": {
    "metadata": {}
   },
   "outputs": [],
   "source": [
    "import mysql.connector"
   ]
  },
  {
   "cell_type": "code",
   "execution_count": 9,
   "metadata": {
    "metadata": {}
   },
   "outputs": [
    {
     "name": "stdout",
     "output_type": "stream",
     "text": [
      "Connected to MySQL database\n"
     ]
    }
   ],
   "source": [
    "\n",
    "\n",
    "# Establish connection to MySQL database\n",
    "mydb = mysql.connector.connect(\n",
    "    host=\"127.0.0.1\",\n",
    "    user=\"root\",\n",
    "    password=\"Srini123\",\n",
    "    database=\"bizcard\"\n",
    ")\n",
    "\n",
    "# Check if the connection was successful\n",
    "if mydb.is_connected():\n",
    "    print(\"Connected to MySQL database\")\n",
    "else:\n",
    "    print(\"Failed to connect to MySQL database\")\n"
   ]
  },
  {
   "cell_type": "code",
   "execution_count": 10,
   "metadata": {
    "metadata": {}
   },
   "outputs": [],
   "source": [
    "# CONNECTING WITH MYSQL DATABASE\n",
    "mydb = mysql.connector.connect(\n",
    "    host=\"127.0.0.1\",\n",
    "    user=\"root\",\n",
    "    password=\"Srini123\",\n",
    "    database= \"bizcard\"\n",
    ")\n",
    "mycursor = mydb.cursor(buffered=True)"
   ]
  },
  {
   "cell_type": "code",
   "execution_count": 11,
   "metadata": {
    "metadata": {}
   },
   "outputs": [],
   "source": [
    "# TABLE CREATION\n",
    "mycursor.execute('''CREATE TABLE IF NOT EXISTS card_data\n",
    "                   (id INTEGER PRIMARY KEY AUTO_INCREMENT,\n",
    "                    company_name TEXT,\n",
    "                    card_holder TEXT,\n",
    "                    designation TEXT,\n",
    "                    mobile_number VARCHAR(50),\n",
    "                    email TEXT,\n",
    "                    website TEXT,\n",
    "                    area TEXT,\n",
    "                    city TEXT,\n",
    "                    state TEXT,\n",
    "                    pin_code VARCHAR(10),\n",
    "                    image LONGBLOB\n",
    "                    )''')"
   ]
  },
  {
   "cell_type": "code",
   "execution_count": 12,
   "metadata": {},
   "outputs": [],
   "source": [
    "# HOME MENU\n",
    "if selected == \"Home\":\n",
    "    col1,col2 = st.columns(2)\n",
    "    with col1:\n",
    "        st.markdown(\"## :green[**Technologies Used :**] Python,easy OCR, Streamlit, SQL, Pandas\")\n",
    "        st.markdown(\"## :green[**Overview :**] In this streamlit web app you can upload an image of a business card and extract relevant information from it using easyOCR. You can view, modify or delete the extracted data in this app. This app would also allow users to save the extracted information into a database along with the uploaded business card image. The database would be able to store multiple entries, each with its own business card image and extracted information.\")\n",
    "    with col2:\n",
    "        st.image(\"home.png\")"
   ]
  },
  {
   "cell_type": "code",
   "execution_count": 13,
   "metadata": {
    "metadata": {}
   },
   "outputs": [],
   "source": [
    "# UPLOAD AND EXTRACT MENU\n",
    "if selected == \"Upload & Extract\":\n",
    "    st.markdown(\"### Upload a Business Card\")\n",
    "    uploaded_card = st.file_uploader(\"upload here\",label_visibility=\"collapsed\",type=[\"png\",\"jpeg\",\"jpg\"])\n",
    "        \n",
    "    if uploaded_card is not None:\n",
    "        \n",
    "        def save_card(uploaded_card):\n",
    "            with open(os.path.join(\"uploaded_cards\",uploaded_card.name), \"wb\") as f:\n",
    "                f.write(uploaded_card.getbuffer())   \n",
    "        save_card(uploaded_card)\n",
    "        \n",
    "        def image_preview(image,res): \n",
    "            for (bbox, text, prob) in res: \n",
    "              # unpack the bounding box\n",
    "                (tl, tr, br, bl) = bbox\n",
    "                tl = (int(tl[0]), int(tl[1]))\n",
    "                tr = (int(tr[0]), int(tr[1]))\n",
    "                br = (int(br[0]), int(br[1]))\n",
    "                bl = (int(bl[0]), int(bl[1]))\n",
    "                cv2.rectangle(image, tl, br, (0, 255, 0), 2)\n",
    "                cv2.putText(image, text, (tl[0], tl[1] - 10),\n",
    "                cv2.FONT_HERSHEY_SIMPLEX, 0.7, (255, 0, 0), 2)\n",
    "            plt.rcParams['figure.figsize'] = (15,15)\n",
    "            plt.axis('off')\n",
    "            plt.imshow(image)\n",
    "        \n",
    "        # DISPLAYING THE UPLOADED CARD\n",
    "        col1,col2 = st.columns(2,gap=\"large\")\n",
    "        with col1:\n",
    "            st.markdown(\"#     \")\n",
    "            st.markdown(\"#     \")\n",
    "            st.markdown(\"### You have uploaded the card\")\n",
    "            st.image(uploaded_card)\n",
    "        # DISPLAYING THE CARD WITH HIGHLIGHTS\n",
    "        with col2:\n",
    "            st.markdown(\"#     \")\n",
    "            st.markdown(\"#     \")\n",
    "            with st.spinner(\"Please wait processing image...\"):\n",
    "                st.set_option('deprecation.showPyplotGlobalUse', False)\n",
    "                saved_img = os.getcwd()+ \"\\\\\" + \"uploaded_cards\"+ \"\\\\\"+ uploaded_card.name\n",
    "                image = cv2.imread(saved_img)\n",
    "                res = reader.readtext(saved_img)\n",
    "                st.markdown(\"### Image Processed and Data Extracted\")\n",
    "                st.pyplot(image_preview(image,res))  \n",
    "                \n",
    "            \n",
    "        #easy OCR\n",
    "        saved_img = os.getcwd()+ \"\\\\\" + \"uploaded_cards\"+ \"\\\\\"+ uploaded_card.name\n",
    "        result = reader.readtext(saved_img,detail = 0,paragraph=False)\n",
    "        \n",
    "        # CONVERTING IMAGE TO BINARY TO UPLOAD TO SQL DATABASE\n",
    "        def img_to_binary(file):\n",
    "            # Convert image data to binary format\n",
    "            with open(file, 'rb') as file:\n",
    "                binaryData = file.read()\n",
    "            return binaryData\n",
    "        \n",
    "        data = {\"company_name\" : [],\n",
    "                \"card_holder\" : [],\n",
    "                \"designation\" : [],\n",
    "                \"mobile_number\" :[],\n",
    "                \"email\" : [],\n",
    "                \"website\" : [],\n",
    "                \"area\" : [],\n",
    "                \"city\" : [],\n",
    "                \"state\" : [],\n",
    "                \"pin_code\" : [],\n",
    "                \"image\" : img_to_binary(saved_img)\n",
    "               }\n",
    "\n",
    "        def get_data(res):\n",
    "            for ind,i in enumerate(res):\n",
    "\n",
    "                # To get WEBSITE_URL\n",
    "                if \"www \" in i.lower() or \"www.\" in i.lower():\n",
    "                    data[\"website\"].append(i)\n",
    "                elif \"WWW\" in i:\n",
    "                    data[\"website\"] = res[4] +\".\" + res[5]\n",
    "\n",
    "                # To get EMAIL ID\n",
    "                elif \"@\" in i:\n",
    "                    data[\"email\"].append(i)\n",
    "\n",
    "                # To get MOBILE NUMBER\n",
    "                elif \"-\" in i:\n",
    "                    data[\"mobile_number\"].append(i)\n",
    "                    if len(data[\"mobile_number\"]) ==2:\n",
    "                        data[\"mobile_number\"] = \" & \".join(data[\"mobile_number\"])\n",
    "\n",
    "                # To get COMPANY NAME  \n",
    "                elif ind == len(res)-1:\n",
    "                    data[\"company_name\"].append(i)\n",
    "\n",
    "                # To get CARD HOLDER NAME\n",
    "                elif ind == 0:\n",
    "                    data[\"card_holder\"].append(i)\n",
    "\n",
    "                # To get DESIGNATION\n",
    "                elif ind == 1:\n",
    "                    data[\"designation\"].append(i)\n",
    "\n",
    "                # To get AREA\n",
    "                if re.findall('^[0-9].+, [a-zA-Z]+',i):\n",
    "                    data[\"area\"].append(i.split(',')[0])\n",
    "                elif re.findall('[0-9] [a-zA-Z]+',i):\n",
    "                    data[\"area\"].append(i)\n",
    "\n",
    "                # To get CITY NAME\n",
    "                match1 = re.findall('.+St , ([a-zA-Z]+).+', i)\n",
    "                match2 = re.findall('.+St,, ([a-zA-Z]+).+', i)\n",
    "                match3 = re.findall('^[E].*',i)\n",
    "                if match1:\n",
    "                    data[\"city\"].append(match1[0])\n",
    "                elif match2:\n",
    "                    data[\"city\"].append(match2[0])\n",
    "                elif match3:\n",
    "                    data[\"city\"].append(match3[0])\n",
    "\n",
    "                # To get STATE\n",
    "                state_match = re.findall('[a-zA-Z]{9} +[0-9]',i)\n",
    "                if state_match:\n",
    "                     data[\"state\"].append(i[:9])\n",
    "                elif re.findall('^[0-9].+, ([a-zA-Z]+);',i):\n",
    "                    data[\"state\"].append(i.split()[-1])\n",
    "                if len(data[\"state\"])== 2:\n",
    "                    data[\"state\"].pop(0)\n",
    "\n",
    "                # To get PINCODE        \n",
    "                if len(i)>=6 and i.isdigit():\n",
    "                    data[\"pin_code\"].append(i)\n",
    "                elif re.findall('[a-zA-Z]{9} +[0-9]',i):\n",
    "                    data[\"pin_code\"].append(i[10:])\n",
    "        get_data(result)\n",
    "        \n",
    "        #FUNCTION TO CREATE DATAFRAME\n",
    "        def create_df(data):\n",
    "            df = pd.DataFrame(data)\n",
    "            return df\n",
    "        df = create_df(data)\n",
    "        st.success(\"### Data Extracted!\")\n",
    "        st.write(df)\n",
    "        \n",
    "        if st.button(\"Upload to Database\"):\n",
    "            for i,row in df.iterrows():\n",
    "                #here %S means string values \n",
    "                sql = \"\"\"INSERT INTO card_data(company_name,card_holder,designation,mobile_number,email,website,area,city,state,pin_code,image)\n",
    "                         VALUES (%s,%s,%s,%s,%s,%s,%s,%s,%s,%s,%s)\"\"\"\n",
    "                mycursor.execute(sql, tuple(row))\n",
    "                # the connection is not auto committed by default, so we must commit to save our changes\n",
    "                mydb.commit()\n",
    "            st.success(\"#### Uploaded to database successfully!\")"
   ]
  },
  {
   "cell_type": "code",
   "execution_count": 14,
   "metadata": {
    "metadata": {}
   },
   "outputs": [],
   "source": [
    "# MODIFY MENU    \n",
    "if selected == \"Modify\":\n",
    "    col1,col2,col3 = st.columns([3,3,2])\n",
    "    col2.markdown(\"## Alter or Delete the data here\")\n",
    "    column1,column2 = st.columns(2,gap=\"large\")\n",
    "    try:\n",
    "        with column1:\n",
    "            mycursor.execute(\"SELECT card_holder FROM card_data\")\n",
    "            result = mycursor.fetchall()\n",
    "            business_cards = {}\n",
    "            for row in result:\n",
    "                business_cards[row[0]] = row[0]\n",
    "            selected_card = st.selectbox(\"Select a card holder name to update\", list(business_cards.keys()))\n",
    "            st.markdown(\"#### Update or modify any data below\")\n",
    "            mycursor.execute(\"select company_name,card_holder,designation,mobile_number,email,website,area,city,state,pin_code from card_data WHERE card_holder=%s\",\n",
    "                            (selected_card,))\n",
    "            result = mycursor.fetchone()\n",
    "\n",
    "            # DISPLAYING ALL THE INFORMATIONS\n",
    "            company_name = st.text_input(\"Company_Name\", result[0])\n",
    "            card_holder = st.text_input(\"Card_Holder\", result[1])\n",
    "            designation = st.text_input(\"Designation\", result[2])\n",
    "            mobile_number = st.text_input(\"Mobile_Number\", result[3])\n",
    "            email = st.text_input(\"Email\", result[4])\n",
    "            website = st.text_input(\"Website\", result[5])\n",
    "            area = st.text_input(\"Area\", result[6])\n",
    "            city = st.text_input(\"City\", result[7])\n",
    "            state = st.text_input(\"State\", result[8])\n",
    "            pin_code = st.text_input(\"Pin_Code\", result[9])\n",
    "\n",
    "            if st.button(\"Commit changes to DB\"):\n",
    "                # Update the information for the selected business card in the database\n",
    "                mycursor.execute(\"\"\"UPDATE card_data SET company_name=%s,card_holder=%s,designation=%s,mobile_number=%s,email=%s,website=%s,area=%s,city=%s,state=%s,pin_code=%s\n",
    "                                    WHERE card_holder=%s\"\"\", (company_name,card_holder,designation,mobile_number,email,website,area,city,state,pin_code,selected_card))\n",
    "                mydb.commit()\n",
    "                st.success(\"Information updated in database successfully.\")\n",
    "\n",
    "        with column2:\n",
    "            mycursor.execute(\"SELECT card_holder FROM card_data\")\n",
    "            result = mycursor.fetchall()\n",
    "            business_cards = {}\n",
    "            for row in result:\n",
    "                business_cards[row[0]] = row[0]\n",
    "            selected_card = st.selectbox(\"Select a card holder name to Delete\", list(business_cards.keys()))\n",
    "            st.write(f\"### You have selected :green[**{selected_card}'s**] card to delete\")\n",
    "            st.write(\"#### Proceed to delete this card?\")\n",
    "\n",
    "            if st.button(\"Yes Delete Business Card\"):\n",
    "                mycursor.execute(f\"DELETE FROM card_data WHERE card_holder='{selected_card}'\")\n",
    "                mydb.commit()\n",
    "                st.success(\"Business card information deleted from database.\")\n",
    "    except:\n",
    "        st.warning(\"There is no data available in the database\")\n",
    "    \n",
    "    if st.button(\"View updated data\"):\n",
    "        mycursor.execute(\"select company_name,card_holder,designation,mobile_number,email,website,area,city,state,pin_code from card_data\")\n",
    "        updated_df = pd.DataFrame(mycursor.fetchall(),columns=[\"Company_Name\",\"Card_Holder\",\"Designation\",\"Mobile_Number\",\"Email\",\"Website\",\"Area\",\"City\",\"State\",\"Pin_Code\"])\n",
    "        st.write(updated_df)"
   ]
  },
  {
   "cell_type": "code",
   "execution_count": null,
   "metadata": {},
   "outputs": [],
   "source": []
  }
 ],
 "metadata": {
  "kernelspec": {
   "display_name": ".venv",
   "language": "python",
   "name": "python3"
  },
  "language_info": {
   "codemirror_mode": {
    "name": "ipython",
    "version": 3
   },
   "file_extension": ".py",
   "mimetype": "text/x-python",
   "name": "python",
   "nbconvert_exporter": "python",
   "pygments_lexer": "ipython3",
   "version": "3.12.0"
  }
 },
 "nbformat": 4,
 "nbformat_minor": 2
}
